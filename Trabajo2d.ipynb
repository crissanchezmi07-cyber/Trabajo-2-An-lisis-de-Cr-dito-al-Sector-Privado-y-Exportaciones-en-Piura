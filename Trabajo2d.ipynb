{
  "cells": [
    {
      "cell_type": "markdown",
      "metadata": {
        "id": "AlWoejzithOE"
      },
      "source": [
        "# Plantilla Guía para el Trabajo 2: Modelado Supervisado\n",
        "\n",
        "**Curso:** Introducción a Ciencia de Datos y Machine Learning con Python\n",
        "\n",
        "---\n",
        "\n",
        "Este notebook es una plantilla para guiar el desarrollo del Trabajo 2. El objetivo es proporcionar una estructura clara para el proceso de modelado, validación y comparación, asegurando que se cumplan todos los requisitos críticos de la asignación. Reemplazen con sus propios datos y análisis según sea necesario. Tmbn reemplazen los ... con el código o valores que correspondan, sino, no funcionará.\n",
        "\n",
        "**Pasos sugeridos:**\n",
        "1.  **Adaptar el código:** Reemplaza los nombres de variables de ejemplo (`'variable_objetivo'`, `'feature_1'`, etc.) con los nombres de las columnas de tu propio dataset. Añade o elimina celdas según las necesidades de tu análisis y modelo.\n",
        "2.  **Completar el análisis:** Encontrarás celdas de Markdown con la etiqueta `[ESCRIBE AQUÍ]` donde deberás escribir tus interpretaciones, justificaciones y conclusiones."
      ]
    },
    {
      "cell_type": "markdown",
      "source": [
        "#Trabajo 2: Análisis de Crédito al Sector Privado y Exportaciones en Piura\n",
        "\n",
        "Curso: Introducción a Ciencia de Datos y Machine Learning con Python\n",
        "\n",
        "¿En qué medida el crédito directo del sistema financiero al\n",
        "sector privado en Piura impacta en el nivel de exportaciones del\n",
        "departamento?\n",
        "\n",
        "Objetivo\n",
        "\n",
        "Evaluar la relación entre el crédito directo otorgado por el sistema financiero al sector privado en Piura y el nivel de exportaciones del departamento.\n",
        "\n",
        "\n",
        "Grupo: N° 7\n",
        "\n",
        "Integrantes:\n",
        "\n",
        "Carlos Fabrizzio Cruz Valencia\n",
        "\n",
        "Nicolas Alexis Rodriguez Farro\n",
        "\n",
        "Cristina Sánchez Miranda\n",
        "\n",
        "Angelica Milagros Velasquez Cabrera"
      ],
      "metadata": {
        "id": "Er4LI2nwDFNC"
      }
    },
    {
      "cell_type": "markdown",
      "metadata": {
        "id": "Pfve710ethOM"
      },
      "source": [
        "## 1. Carga de Librerías y Datos"
      ]
    },
    {
      "cell_type": "code",
      "execution_count": null,
      "metadata": {
        "id": "2AKSgkbAthON"
      },
      "outputs": [],
      "source": [
        "# Librerías para manipulación de datos\n",
        "import pandas as pd\n",
        "import numpy as np\n",
        "\n",
        "# Librerías para visualización\n",
        "import matplotlib.pyplot as plt\n",
        "import seaborn as sns\n",
        "\n",
        "# Librerías para modelado y evaluación\n",
        "from sklearn.model_selection import train_test_split, KFold, cross_val_score\n",
        "from sklearn.preprocessing import StandardScaler, PolynomialFeatures\n",
        "from sklearn.linear_model import LinearRegression, LogisticRegression\n",
        "from sklearn.pipeline import Pipeline\n",
        "from sklearn.metrics import mean_squared_error, r2_score\n",
        "from sklearn.metrics import accuracy_score, precision_score, recall_score, f1_score, roc_auc_score, confusion_matrix, classification_report\n",
        "\n",
        "# Statsmodels para inferencia\n",
        "import statsmodels.api as sm\n",
        "\n",
        "# Configuraciones generales\n",
        "plt.style.use('seaborn-v0_8-whitegrid') # Fondo blanco y cuadrícula para gráficos seaborn\n",
        "pd.set_option('display.float_format', lambda x: f'{x:,.4f}') # Formato para floats"
      ]
    },
    {
      "cell_type": "code",
      "execution_count": null,
      "metadata": {
        "colab": {
          "base_uri": "https://localhost:8080/",
          "height": 313
        },
        "id": "_tGuYCVVthOQ",
        "outputId": "fdcf6f7a-7db2-40ab-93bd-a1a281c6a426"
      },
      "outputs": [
        {
          "output_type": "execute_result",
          "data": {
            "text/plain": [
              "        fecha  tipo_cambio  credito_total_piura  credito_soles_piura  \\\n",
              "0  2005-01-01       3.2682             930.5421             539.0385   \n",
              "1  2005-02-01       3.2588             932.1846             544.4757   \n",
              "2  2005-03-01       3.2593             971.2124             566.4315   \n",
              "3  2005-04-01       3.2580             988.2234             580.9345   \n",
              "4  2005-05-01       3.2549             998.2878             577.6179   \n",
              "\n",
              "   credito_dolares_piura  exportaciones_piura  credito_total_nacional  \\\n",
              "0               391.5036             208.1825             38,568.6866   \n",
              "1               387.7089             224.4368             38,631.6257   \n",
              "2               404.7809             200.1131             39,155.8295   \n",
              "3               407.2889             178.2377             40,102.7880   \n",
              "4               420.6699             245.9866             41,154.8992   \n",
              "\n",
              "   exportaciones_nacional    ICEN  ICEN_exp  riesgo_pais_embig  \n",
              "0              4,131.1994 -0.1700    0.8437           171.8095  \n",
              "1              3,705.2732 -0.7400    0.4771           171.8097  \n",
              "2              4,391.8998 -0.8800    0.4148           171.8099  \n",
              "3              4,097.8322 -0.6800    0.5066           171.8101  \n",
              "4              4,409.6433 -0.4600    0.6313           171.8102  "
            ],
            "text/html": [
              "\n",
              "  <div id=\"df-c59a30fe-bbb2-4725-bf9b-6eb03ee3da03\" class=\"colab-df-container\">\n",
              "    <div>\n",
              "<style scoped>\n",
              "    .dataframe tbody tr th:only-of-type {\n",
              "        vertical-align: middle;\n",
              "    }\n",
              "\n",
              "    .dataframe tbody tr th {\n",
              "        vertical-align: top;\n",
              "    }\n",
              "\n",
              "    .dataframe thead th {\n",
              "        text-align: right;\n",
              "    }\n",
              "</style>\n",
              "<table border=\"1\" class=\"dataframe\">\n",
              "  <thead>\n",
              "    <tr style=\"text-align: right;\">\n",
              "      <th></th>\n",
              "      <th>fecha</th>\n",
              "      <th>tipo_cambio</th>\n",
              "      <th>credito_total_piura</th>\n",
              "      <th>credito_soles_piura</th>\n",
              "      <th>credito_dolares_piura</th>\n",
              "      <th>exportaciones_piura</th>\n",
              "      <th>credito_total_nacional</th>\n",
              "      <th>exportaciones_nacional</th>\n",
              "      <th>ICEN</th>\n",
              "      <th>ICEN_exp</th>\n",
              "      <th>riesgo_pais_embig</th>\n",
              "    </tr>\n",
              "  </thead>\n",
              "  <tbody>\n",
              "    <tr>\n",
              "      <th>0</th>\n",
              "      <td>2005-01-01</td>\n",
              "      <td>3.2682</td>\n",
              "      <td>930.5421</td>\n",
              "      <td>539.0385</td>\n",
              "      <td>391.5036</td>\n",
              "      <td>208.1825</td>\n",
              "      <td>38,568.6866</td>\n",
              "      <td>4,131.1994</td>\n",
              "      <td>-0.1700</td>\n",
              "      <td>0.8437</td>\n",
              "      <td>171.8095</td>\n",
              "    </tr>\n",
              "    <tr>\n",
              "      <th>1</th>\n",
              "      <td>2005-02-01</td>\n",
              "      <td>3.2588</td>\n",
              "      <td>932.1846</td>\n",
              "      <td>544.4757</td>\n",
              "      <td>387.7089</td>\n",
              "      <td>224.4368</td>\n",
              "      <td>38,631.6257</td>\n",
              "      <td>3,705.2732</td>\n",
              "      <td>-0.7400</td>\n",
              "      <td>0.4771</td>\n",
              "      <td>171.8097</td>\n",
              "    </tr>\n",
              "    <tr>\n",
              "      <th>2</th>\n",
              "      <td>2005-03-01</td>\n",
              "      <td>3.2593</td>\n",
              "      <td>971.2124</td>\n",
              "      <td>566.4315</td>\n",
              "      <td>404.7809</td>\n",
              "      <td>200.1131</td>\n",
              "      <td>39,155.8295</td>\n",
              "      <td>4,391.8998</td>\n",
              "      <td>-0.8800</td>\n",
              "      <td>0.4148</td>\n",
              "      <td>171.8099</td>\n",
              "    </tr>\n",
              "    <tr>\n",
              "      <th>3</th>\n",
              "      <td>2005-04-01</td>\n",
              "      <td>3.2580</td>\n",
              "      <td>988.2234</td>\n",
              "      <td>580.9345</td>\n",
              "      <td>407.2889</td>\n",
              "      <td>178.2377</td>\n",
              "      <td>40,102.7880</td>\n",
              "      <td>4,097.8322</td>\n",
              "      <td>-0.6800</td>\n",
              "      <td>0.5066</td>\n",
              "      <td>171.8101</td>\n",
              "    </tr>\n",
              "    <tr>\n",
              "      <th>4</th>\n",
              "      <td>2005-05-01</td>\n",
              "      <td>3.2549</td>\n",
              "      <td>998.2878</td>\n",
              "      <td>577.6179</td>\n",
              "      <td>420.6699</td>\n",
              "      <td>245.9866</td>\n",
              "      <td>41,154.8992</td>\n",
              "      <td>4,409.6433</td>\n",
              "      <td>-0.4600</td>\n",
              "      <td>0.6313</td>\n",
              "      <td>171.8102</td>\n",
              "    </tr>\n",
              "  </tbody>\n",
              "</table>\n",
              "</div>\n",
              "    <div class=\"colab-df-buttons\">\n",
              "\n",
              "  <div class=\"colab-df-container\">\n",
              "    <button class=\"colab-df-convert\" onclick=\"convertToInteractive('df-c59a30fe-bbb2-4725-bf9b-6eb03ee3da03')\"\n",
              "            title=\"Convert this dataframe to an interactive table.\"\n",
              "            style=\"display:none;\">\n",
              "\n",
              "  <svg xmlns=\"http://www.w3.org/2000/svg\" height=\"24px\" viewBox=\"0 -960 960 960\">\n",
              "    <path d=\"M120-120v-720h720v720H120Zm60-500h600v-160H180v160Zm220 220h160v-160H400v160Zm0 220h160v-160H400v160ZM180-400h160v-160H180v160Zm440 0h160v-160H620v160ZM180-180h160v-160H180v160Zm440 0h160v-160H620v160Z\"/>\n",
              "  </svg>\n",
              "    </button>\n",
              "\n",
              "  <style>\n",
              "    .colab-df-container {\n",
              "      display:flex;\n",
              "      gap: 12px;\n",
              "    }\n",
              "\n",
              "    .colab-df-convert {\n",
              "      background-color: #E8F0FE;\n",
              "      border: none;\n",
              "      border-radius: 50%;\n",
              "      cursor: pointer;\n",
              "      display: none;\n",
              "      fill: #1967D2;\n",
              "      height: 32px;\n",
              "      padding: 0 0 0 0;\n",
              "      width: 32px;\n",
              "    }\n",
              "\n",
              "    .colab-df-convert:hover {\n",
              "      background-color: #E2EBFA;\n",
              "      box-shadow: 0px 1px 2px rgba(60, 64, 67, 0.3), 0px 1px 3px 1px rgba(60, 64, 67, 0.15);\n",
              "      fill: #174EA6;\n",
              "    }\n",
              "\n",
              "    .colab-df-buttons div {\n",
              "      margin-bottom: 4px;\n",
              "    }\n",
              "\n",
              "    [theme=dark] .colab-df-convert {\n",
              "      background-color: #3B4455;\n",
              "      fill: #D2E3FC;\n",
              "    }\n",
              "\n",
              "    [theme=dark] .colab-df-convert:hover {\n",
              "      background-color: #434B5C;\n",
              "      box-shadow: 0px 1px 3px 1px rgba(0, 0, 0, 0.15);\n",
              "      filter: drop-shadow(0px 1px 2px rgba(0, 0, 0, 0.3));\n",
              "      fill: #FFFFFF;\n",
              "    }\n",
              "  </style>\n",
              "\n",
              "    <script>\n",
              "      const buttonEl =\n",
              "        document.querySelector('#df-c59a30fe-bbb2-4725-bf9b-6eb03ee3da03 button.colab-df-convert');\n",
              "      buttonEl.style.display =\n",
              "        google.colab.kernel.accessAllowed ? 'block' : 'none';\n",
              "\n",
              "      async function convertToInteractive(key) {\n",
              "        const element = document.querySelector('#df-c59a30fe-bbb2-4725-bf9b-6eb03ee3da03');\n",
              "        const dataTable =\n",
              "          await google.colab.kernel.invokeFunction('convertToInteractive',\n",
              "                                                    [key], {});\n",
              "        if (!dataTable) return;\n",
              "\n",
              "        const docLinkHtml = 'Like what you see? Visit the ' +\n",
              "          '<a target=\"_blank\" href=https://colab.research.google.com/notebooks/data_table.ipynb>data table notebook</a>'\n",
              "          + ' to learn more about interactive tables.';\n",
              "        element.innerHTML = '';\n",
              "        dataTable['output_type'] = 'display_data';\n",
              "        await google.colab.output.renderOutput(dataTable, element);\n",
              "        const docLink = document.createElement('div');\n",
              "        docLink.innerHTML = docLinkHtml;\n",
              "        element.appendChild(docLink);\n",
              "      }\n",
              "    </script>\n",
              "  </div>\n",
              "\n",
              "\n",
              "    <div id=\"df-beaa921f-62fd-4c52-ac11-8507cdf74a7f\">\n",
              "      <button class=\"colab-df-quickchart\" onclick=\"quickchart('df-beaa921f-62fd-4c52-ac11-8507cdf74a7f')\"\n",
              "                title=\"Suggest charts\"\n",
              "                style=\"display:none;\">\n",
              "\n",
              "<svg xmlns=\"http://www.w3.org/2000/svg\" height=\"24px\"viewBox=\"0 0 24 24\"\n",
              "     width=\"24px\">\n",
              "    <g>\n",
              "        <path d=\"M19 3H5c-1.1 0-2 .9-2 2v14c0 1.1.9 2 2 2h14c1.1 0 2-.9 2-2V5c0-1.1-.9-2-2-2zM9 17H7v-7h2v7zm4 0h-2V7h2v10zm4 0h-2v-4h2v4z\"/>\n",
              "    </g>\n",
              "</svg>\n",
              "      </button>\n",
              "\n",
              "<style>\n",
              "  .colab-df-quickchart {\n",
              "      --bg-color: #E8F0FE;\n",
              "      --fill-color: #1967D2;\n",
              "      --hover-bg-color: #E2EBFA;\n",
              "      --hover-fill-color: #174EA6;\n",
              "      --disabled-fill-color: #AAA;\n",
              "      --disabled-bg-color: #DDD;\n",
              "  }\n",
              "\n",
              "  [theme=dark] .colab-df-quickchart {\n",
              "      --bg-color: #3B4455;\n",
              "      --fill-color: #D2E3FC;\n",
              "      --hover-bg-color: #434B5C;\n",
              "      --hover-fill-color: #FFFFFF;\n",
              "      --disabled-bg-color: #3B4455;\n",
              "      --disabled-fill-color: #666;\n",
              "  }\n",
              "\n",
              "  .colab-df-quickchart {\n",
              "    background-color: var(--bg-color);\n",
              "    border: none;\n",
              "    border-radius: 50%;\n",
              "    cursor: pointer;\n",
              "    display: none;\n",
              "    fill: var(--fill-color);\n",
              "    height: 32px;\n",
              "    padding: 0;\n",
              "    width: 32px;\n",
              "  }\n",
              "\n",
              "  .colab-df-quickchart:hover {\n",
              "    background-color: var(--hover-bg-color);\n",
              "    box-shadow: 0 1px 2px rgba(60, 64, 67, 0.3), 0 1px 3px 1px rgba(60, 64, 67, 0.15);\n",
              "    fill: var(--button-hover-fill-color);\n",
              "  }\n",
              "\n",
              "  .colab-df-quickchart-complete:disabled,\n",
              "  .colab-df-quickchart-complete:disabled:hover {\n",
              "    background-color: var(--disabled-bg-color);\n",
              "    fill: var(--disabled-fill-color);\n",
              "    box-shadow: none;\n",
              "  }\n",
              "\n",
              "  .colab-df-spinner {\n",
              "    border: 2px solid var(--fill-color);\n",
              "    border-color: transparent;\n",
              "    border-bottom-color: var(--fill-color);\n",
              "    animation:\n",
              "      spin 1s steps(1) infinite;\n",
              "  }\n",
              "\n",
              "  @keyframes spin {\n",
              "    0% {\n",
              "      border-color: transparent;\n",
              "      border-bottom-color: var(--fill-color);\n",
              "      border-left-color: var(--fill-color);\n",
              "    }\n",
              "    20% {\n",
              "      border-color: transparent;\n",
              "      border-left-color: var(--fill-color);\n",
              "      border-top-color: var(--fill-color);\n",
              "    }\n",
              "    30% {\n",
              "      border-color: transparent;\n",
              "      border-left-color: var(--fill-color);\n",
              "      border-top-color: var(--fill-color);\n",
              "      border-right-color: var(--fill-color);\n",
              "    }\n",
              "    40% {\n",
              "      border-color: transparent;\n",
              "      border-right-color: var(--fill-color);\n",
              "      border-top-color: var(--fill-color);\n",
              "    }\n",
              "    60% {\n",
              "      border-color: transparent;\n",
              "      border-right-color: var(--fill-color);\n",
              "    }\n",
              "    80% {\n",
              "      border-color: transparent;\n",
              "      border-right-color: var(--fill-color);\n",
              "      border-bottom-color: var(--fill-color);\n",
              "    }\n",
              "    90% {\n",
              "      border-color: transparent;\n",
              "      border-bottom-color: var(--fill-color);\n",
              "    }\n",
              "  }\n",
              "</style>\n",
              "\n",
              "      <script>\n",
              "        async function quickchart(key) {\n",
              "          const quickchartButtonEl =\n",
              "            document.querySelector('#' + key + ' button');\n",
              "          quickchartButtonEl.disabled = true;  // To prevent multiple clicks.\n",
              "          quickchartButtonEl.classList.add('colab-df-spinner');\n",
              "          try {\n",
              "            const charts = await google.colab.kernel.invokeFunction(\n",
              "                'suggestCharts', [key], {});\n",
              "          } catch (error) {\n",
              "            console.error('Error during call to suggestCharts:', error);\n",
              "          }\n",
              "          quickchartButtonEl.classList.remove('colab-df-spinner');\n",
              "          quickchartButtonEl.classList.add('colab-df-quickchart-complete');\n",
              "        }\n",
              "        (() => {\n",
              "          let quickchartButtonEl =\n",
              "            document.querySelector('#df-beaa921f-62fd-4c52-ac11-8507cdf74a7f button');\n",
              "          quickchartButtonEl.style.display =\n",
              "            google.colab.kernel.accessAllowed ? 'block' : 'none';\n",
              "        })();\n",
              "      </script>\n",
              "    </div>\n",
              "\n",
              "    </div>\n",
              "  </div>\n"
            ],
            "application/vnd.google.colaboratory.intrinsic+json": {
              "type": "dataframe",
              "variable_name": "df",
              "summary": "{\n  \"name\": \"df\",\n  \"rows\": 216,\n  \"fields\": [\n    {\n      \"column\": \"fecha\",\n      \"properties\": {\n        \"dtype\": \"object\",\n        \"num_unique_values\": 216,\n        \"samples\": [\n          \"2021-10-01\",\n          \"2022-10-01\",\n          \"2016-07-01\"\n        ],\n        \"semantic_type\": \"\",\n        \"description\": \"\"\n      }\n    },\n    {\n      \"column\": \"tipo_cambio\",\n      \"properties\": {\n        \"dtype\": \"number\",\n        \"std\": 0.3566621639665367,\n        \"min\": 2.55190909090909,\n        \"max\": 4.10747727272727,\n        \"num_unique_values\": 215,\n        \"samples\": [\n          4.01505,\n          3.97871428571429,\n          3.29873684210526\n        ],\n        \"semantic_type\": \"\",\n        \"description\": \"\"\n      }\n    },\n    {\n      \"column\": \"credito_total_piura\",\n      \"properties\": {\n        \"dtype\": \"number\",\n        \"std\": 2553.9672177449006,\n        \"min\": 930.542148750001,\n        \"max\": 9459.97488108,\n        \"num_unique_values\": 216,\n        \"samples\": [\n          8862.27300687,\n          8212.58169525,\n          6043.95216437\n        ],\n        \"semantic_type\": \"\",\n        \"description\": \"\"\n      }\n    },\n    {\n      \"column\": \"credito_soles_piura\",\n      \"properties\": {\n        \"dtype\": \"number\",\n        \"std\": 2327.467375183592,\n        \"min\": 539.0385159,\n        \"max\": 8217.56824682,\n        \"num_unique_values\": 216,\n        \"samples\": [\n          7804.10506804,\n          7070.90002048,\n          4993.78726271\n        ],\n        \"semantic_type\": \"\",\n        \"description\": \"\"\n      }\n    },\n    {\n      \"column\": \"credito_dolares_piura\",\n      \"properties\": {\n        \"dtype\": \"number\",\n        \"std\": 259.8580299640901,\n        \"min\": 377.09648667,\n        \"max\": 1257.25105791,\n        \"num_unique_values\": 216,\n        \"samples\": [\n          1058.16793883,\n          1141.68167477,\n          1050.16490166\n        ],\n        \"semantic_type\": \"\",\n        \"description\": \"\"\n      }\n    },\n    {\n      \"column\": \"exportaciones_piura\",\n      \"properties\": {\n        \"dtype\": \"number\",\n        \"std\": 292.56707340003396,\n        \"min\": 131.91061606866626,\n        \"max\": 2226.68378483214,\n        \"num_unique_values\": 216,\n        \"samples\": [\n          1188.6625473193574,\n          1422.9328002079687,\n          372.0516454022396\n        ],\n        \"semantic_type\": \"\",\n        \"description\": \"\"\n      }\n    },\n    {\n      \"column\": \"credito_total_nacional\",\n      \"properties\": {\n        \"dtype\": \"number\",\n        \"std\": 114996.62383166043,\n        \"min\": 38568.6866271801,\n        \"max\": 412496.8547,\n        \"num_unique_values\": 216,\n        \"samples\": [\n          388290.51615607,\n          412231.34385242,\n          258869.55583987\n        ],\n        \"semantic_type\": \"\",\n        \"description\": \"\"\n      }\n    },\n    {\n      \"column\": \"exportaciones_nacional\",\n      \"properties\": {\n        \"dtype\": \"number\",\n        \"std\": 4537.498348098373,\n        \"min\": 3705.273223050984,\n        \"max\": 26480.191659351105,\n        \"num_unique_values\": 216,\n        \"samples\": [\n          23223.17851649957,\n          21981.910014794583,\n          11057.01612659415\n        ],\n        \"semantic_type\": \"\",\n        \"description\": \"\"\n      }\n    },\n    {\n      \"column\": \"ICEN\",\n      \"properties\": {\n        \"dtype\": \"number\",\n        \"std\": 0.8615119101427616,\n        \"min\": -1.66,\n        \"max\": 2.23,\n        \"num_unique_values\": 151,\n        \"samples\": [\n          -0.23,\n          0.91,\n          -1.52\n        ],\n        \"semantic_type\": \"\",\n        \"description\": \"\"\n      }\n    },\n    {\n      \"column\": \"ICEN_exp\",\n      \"properties\": {\n        \"dtype\": \"number\",\n        \"std\": 1.5800930544281229,\n        \"min\": 0.1901389801015205,\n        \"max\": 9.299866079483586,\n        \"num_unique_values\": 151,\n        \"samples\": [\n          0.794533602503334,\n          2.4843225333848165,\n          0.2187118869522147\n        ],\n        \"semantic_type\": \"\",\n        \"description\": \"\"\n      }\n    },\n    {\n      \"column\": \"riesgo_pais_embig\",\n      \"properties\": {\n        \"dtype\": \"number\",\n        \"std\": 59.18163949375496,\n        \"min\": 103.95238,\n        \"max\": 500.47826,\n        \"num_unique_values\": 215,\n        \"samples\": [\n          171.619047619048,\n          242.587095238095,\n          172.981605\n        ],\n        \"semantic_type\": \"\",\n        \"description\": \"\"\n      }\n    }\n  ]\n}"
            }
          },
          "metadata": {},
          "execution_count": 3
        }
      ],
      "source": [
        "# Carga de datos\n",
        "# Asegúrate de cargar el dataset limpio y curado del Trabajo 1.\n",
        "# Reemplaza 'tu_dataset.csv' con el nombre de tu archivo, y read_csv con la función adecuada si es otro formato.\n",
        "df = pd.read_csv('df_final.csv')\n",
        "\n",
        "# Muestra un vistazo de los datos (puedes incluir lo mas relevante de tu trabajo1)\n",
        "df.head()"
      ]
    },
    {
      "cell_type": "markdown",
      "metadata": {
        "id": "gfkD91CrthOQ"
      },
      "source": [
        "## 2. Separación de Datos: Training y Test (Paso Crítico)\n",
        "\n",
        "Este es uno de los pasos más importantes. Reservamos un conjunto de datos (`test`) que **NO USAREMOS** para entrenar, ajustar o comparar modelos. Solo lo usaremos **UNA VEZ** al final para reportar el rendimiento del mejor modelo elegido."
      ]
    },
    {
      "cell_type": "code",
      "execution_count": null,
      "metadata": {
        "colab": {
          "base_uri": "https://localhost:8080/"
        },
        "id": "YFRnENd3thOR",
        "outputId": "33ce7ccd-81b7-43b9-f4ea-364544a78ff2"
      },
      "outputs": [
        {
          "output_type": "stream",
          "name": "stdout",
          "text": [
            "Tamaño del conjunto de entrenamiento: 172 filas\n",
            "Tamaño del conjunto de prueba: 44 filas\n"
          ]
        }
      ],
      "source": [
        "# --- Define tus variables ---\n",
        "# Variable dependiente (Y)\n",
        "TARGET = 'exportaciones_piura'\n",
        "\n",
        "# Variables independientes (X)\n",
        "FEATURES = [\n",
        "    'credito_total_piura',\n",
        "    'tipo_cambio',\n",
        "    'ICEN',\n",
        "\n",
        "    'riesgo_pais_embig',\n",
        "    'credito_total_nacional',\n",
        "    'exportaciones_nacional'\n",
        "]\n",
        "# Definir X e y\n",
        "X = df[FEATURES]\n",
        "y = df[TARGET]\n",
        "\n",
        "# --- Separación de datos ---\n",
        "# test_size = 0.2 → 80% entrenamiento, 20% prueba\n",
        "# random_state = 42 → asegura reproducibilidad del split\n",
        "from sklearn.model_selection import train_test_split\n",
        "\n",
        "X_train, X_test, y_train, y_test = train_test_split(X, y, test_size=0.2, random_state=42)\n",
        "\n",
        "print(f\"Tamaño del conjunto de entrenamiento: {len(X_train)} filas\")\n",
        "print(f\"Tamaño del conjunto de prueba: {len(X_test)} filas\")\n"
      ]
    },
    {
      "cell_type": "markdown",
      "metadata": {
        "id": "kcAnPwa2thOS"
      },
      "source": [
        "## 3. Modelo Base (Baseline)\n",
        "\n",
        "Antes de construir modelos complejos, establecemos un \"modelo ingenuo\" o baseline. Este modelo es muy simple y sirve como punto de referencia. Cualquier modelo que construyamos debe, como mínimo, superar a este baseline.\n",
        "\n",
        "-   **Para regresión:** El baseline suele predecir el valor medio de la variable objetivo para todas las observaciones.\n",
        "-   **Para clasificación:** El baseline suele predecir la clase mayoritaria (moda)."
      ]
    },
    {
      "cell_type": "code",
      "execution_count": null,
      "metadata": {
        "colab": {
          "base_uri": "https://localhost:8080/"
        },
        "id": "8nza4qwithOT",
        "outputId": "3859fcd0-da8a-4acd-e731-217efa230e8d"
      },
      "outputs": [
        {
          "output_type": "stream",
          "name": "stdout",
          "text": [
            "Predicción del Baseline (Media de y_train): 589.0589\n",
            "MSE del Baseline en Training: 89,605.9318\n"
          ]
        }
      ],
      "source": [
        "\n",
        "# Baseline para Regresión (predecir la media)\n",
        "mean_baseline_prediction = y_train.mean()\n",
        "\n",
        "# Calculamos el MSE del baseline en el conjunto de entrenamiento\n",
        "baseline_mse = mean_squared_error(y_train, [mean_baseline_prediction] * len(y_train))\n",
        "#[mean_baseline_prediction] * len(y_train) crea una lista donde todas las predicciones son iguales al promedio, una por cada observación de entrenamiento.\n",
        "#Si tu modelo es peor que el promedio, algo anda mal.\n",
        "print(f\"Predicción del Baseline (Media de y_train): {mean_baseline_prediction:,.4f}\")\n",
        "print(f\"MSE del Baseline en Training: {baseline_mse:,.4f}\")"
      ]
    },
    {
      "cell_type": "markdown",
      "metadata": {
        "id": "uoBBYkC9thOU"
      },
      "source": [
        "---\n",
        "# 4. Ruta de Modelado\n",
        "A continuación, se presentan las dos rutas posibles para la comparación de modelos. **Elige y desarrolla solo una de ellas.**\n",
        "\n",
        "### **Opción A: Comparar dos modelos de Regresión (OLS Simple vs. OLS Complejo)**\n",
        "---"
      ]
    },
    {
      "cell_type": "markdown",
      "metadata": {
        "id": "qF9g0n_dthOU"
      },
      "source": [
        "#### 4.A.1. Modelo 1: Regresión Lineal Simple"
      ]
    },
    {
      "cell_type": "markdown",
      "metadata": {
        "id": "ff_2UfpVthOV"
      },
      "source": [
        "##### a) Inferencia con `statsmodels`\n",
        "Usamos `statsmodels` para obtener una tabla de resultados completa que nos permita interpretar los coeficientes, su significancia estadística (p-values) y la bondad de ajuste general del modelo ($R^2$ ajustado). **Este análisis se hace sobre el conjunto de entrenamiento.**"
      ]
    },
    {
      "cell_type": "code",
      "execution_count": null,
      "metadata": {
        "colab": {
          "base_uri": "https://localhost:8080/"
        },
        "id": "rw-oldDXthOW",
        "outputId": "b6ea8768-6638-47e6-bd5b-720c8f182439"
      },
      "outputs": [
        {
          "output_type": "stream",
          "name": "stdout",
          "text": [
            "                             OLS Regression Results                            \n",
            "===============================================================================\n",
            "Dep. Variable:     exportaciones_piura   R-squared:                       0.539\n",
            "Model:                             OLS   Adj. R-squared:                  0.533\n",
            "Method:                  Least Squares   F-statistic:                     98.62\n",
            "Date:                 Wed, 15 Oct 2025   Prob (F-statistic):           4.14e-29\n",
            "Time:                         22:39:09   Log-Likelihood:                -1158.2\n",
            "No. Observations:                  172   AIC:                             2322.\n",
            "Df Residuals:                      169   BIC:                             2332.\n",
            "Df Model:                            2                                         \n",
            "Covariance Type:             nonrobust                                         \n",
            "=======================================================================================\n",
            "                          coef    std err          t      P>|t|      [0.025      0.975]\n",
            "---------------------------------------------------------------------------------------\n",
            "const                 173.5160    154.727      1.121      0.264    -131.930     478.962\n",
            "credito_total_piura     0.0850      0.007     11.531      0.000       0.070       0.100\n",
            "tipo_cambio             1.9866     54.173      0.037      0.971    -104.956     108.929\n",
            "==============================================================================\n",
            "Omnibus:                       90.267   Durbin-Watson:                   1.966\n",
            "Prob(Omnibus):                  0.000   Jarque-Bera (JB):              599.481\n",
            "Skew:                           1.831   Prob(JB):                    6.67e-131\n",
            "Kurtosis:                      11.381   Cond. No.                     5.71e+04\n",
            "==============================================================================\n",
            "\n",
            "Notes:\n",
            "[1] Standard Errors assume that the covariance matrix of the errors is correctly specified.\n",
            "[2] The condition number is large, 5.71e+04. This might indicate that there are\n",
            "strong multicollinearity or other numerical problems.\n"
          ]
        }
      ],
      "source": [
        "# Selecciona un subconjunto de variables para el modelo simple\n",
        "features_simple = ['credito_total_piura', 'tipo_cambio']\n",
        "X_train_simple = X_train[features_simple]\n",
        "\n",
        "# Añadimos una constante (intercepto) al modelo\n",
        "X_train_sm_simple = sm.add_constant(X_train_simple)\n",
        "\n",
        "# Ajustamos el modelo OLS\n",
        "model_ols_simple = sm.OLS(y_train, X_train_sm_simple).fit()\n",
        "\n",
        "# Mostramos el resumen de resultados\n",
        "print(model_ols_simple.summary())"
      ]
    },
    {
      "cell_type": "markdown",
      "metadata": {
        "id": "3dUbtAQZthOW"
      },
      "source": [
        "**Interpretación de Resultados (Modelo Simple)**\n",
        "\n",
        "* **Coeficientes:** ¿Qué significan los coeficientes estimados? ¿Son los signos consistentes con la teoría económica o la intuición?\n",
        "\n",
        "El coeficiente de credito_total_piura es 0.0850 y es consistente con la teoría económica.\n",
        "\n",
        "* **P-values:** ¿Qué variables son estadísticamente significativas (usualmente p < 0.05)?\n",
        "\n",
        "La única variable estadísticamente significativa es credito_total_piura (p-value = 0.000)\n",
        "\n",
        "* **R-cuadrado ajustado:** ¿Qué porcentaje de la variabilidad de la variable objetivo es explicado por el modelo?\n",
        "\n",
        "El R-cuadrado ajustado del modelo es 0.533, lo que indica que el 53.3 % de la variabilidad observada en la variable objetivo (exportaciones_piura) es explicada por las variables incluidas en el modelo.\n",
        "\n",
        "* **Diagnósticos:** ¿Hay alguna advertencia importante (ej. multicolinealidad, heterocedasticidad)?\n",
        "\n",
        "El número de condición (Cond. No. = 5.71e+04) es muy elevado, lo cual advierte sobre posibles problemas de multicolinealidad o diferencias de escala entre las variables independientes"
      ]
    },
    {
      "cell_type": "markdown",
      "metadata": {
        "id": "SIOGVvsBthOX"
      },
      "source": [
        "##### b) Predicción y Validación Cruzada con `scikit-learn`\n",
        "Ahora evaluamos la capacidad predictiva del modelo usando Validación Cruzada (CV). Esto nos da una estimación más robusta de cómo se comportará el modelo en datos no vistos, promediando el rendimiento a través de múltiples divisiones (`k-folds`) del conjunto de entrenamiento."
      ]
    },
    {
      "cell_type": "code",
      "execution_count": null,
      "metadata": {
        "colab": {
          "base_uri": "https://localhost:8080/"
        },
        "id": "WTwR0rePthOX",
        "outputId": "6ca46bdb-15d7-4060-c1eb-d4728bf134fb"
      },
      "outputs": [
        {
          "output_type": "stream",
          "name": "stdout",
          "text": [
            "MSEs en cada fold (CV): [ 29714.65280478  26869.70714796  24533.46669488  37928.84691144\n",
            " 107621.78720518]\n",
            "MSE Promedio (CV): 45,333.6922 (+/- 31,471.1329)\n"
          ]
        }
      ],
      "source": [
        "# Definimos el modelo de regresión lineal\n",
        "model_sk_simple = LinearRegression()\n",
        "\n",
        "# Configuramos la Validación Cruzada (k=5 o k=10 es común)\n",
        "k = 5 #Elijo el numero de folds\n",
        "# Calculamos el MSE usando cross_val_score.\n",
        "# Nota: scikit-learn usa 'neg_mean_squared_error', por lo que invertimos el signo.\n",
        "mse_scores_simple = -cross_val_score(model_sk_simple, X_train_simple, y_train, cv=k, scoring='neg_mean_squared_error')\n",
        "#Si usan series de tiempo, usen TimeSeriesSplit en vez!!\n",
        "#from sklearn.model_selection import TimeSeriesSplit\n",
        "\n",
        "#tscv = TimeSeriesSplit(n_splits=5)\n",
        "#mse_scores = -cross_val_score(modelo, X, y, cv=tscv, scoring='neg_mean_squared_error')\n",
        "\n",
        "\n",
        "print(f\"MSEs en cada fold (CV): {mse_scores_simple}\")\n",
        "print(f\"MSE Promedio (CV): {np.mean(mse_scores_simple):,.4f} (+/- {np.std(mse_scores_simple):,.4f})\")"
      ]
    },
    {
      "cell_type": "markdown",
      "metadata": {
        "id": "Dap1-sVIthOY"
      },
      "source": [
        "**Interpretación de Resultados de CV (Modelo Simple)**\n",
        "\n",
        "* ¿Cuál es el error de predicción promedio esperado para este modelo? (El MSE promedio).\n",
        "\n",
        "El error cuadrático medio (MSE) promedio estimado por validación cruzada para el modelo simple es 45,333.6922. Este valor indica cuánto se espera que, en promedio, las predicciones del modelo difieran de los valores reales de las exportaciones de Piura.\n",
        "\n",
        "* ¿Qué tan estable es el rendimiento del modelo? (Observa la desviación estándar. Un valor alto sugiere que el rendimiento varía mucho dependiendo de los datos de entrenamiento).\n",
        "\n",
        "La desviación estándar del MSE entre los diferentes folds de la validación cruzada es 31,471.1329. Lo cual sugiere baja estabilidad del modelo y alta sensibilidad a la muestra.\n"
      ]
    },
    {
      "cell_type": "markdown",
      "metadata": {
        "id": "SAWZWTexthOY"
      },
      "source": [
        "#### 4.A.2. Modelo 2: Regresión Lineal Compleja\n",
        "\n",
        "Ahora creamos un modelo más complejo. Esto puede significar:\n",
        "* Añadir más variables.\n",
        "* Incluir transformaciones (logaritmos, raíces cuadradas).\n",
        "* Añadir términos polinomiales o interacciones."
      ]
    },
    {
      "cell_type": "code",
      "execution_count": null,
      "metadata": {
        "colab": {
          "base_uri": "https://localhost:8080/"
        },
        "id": "y-c1N5ejthOZ",
        "outputId": "97495f2d-50c4-439b-f3aa-2833c04bf115"
      },
      "outputs": [
        {
          "output_type": "stream",
          "name": "stdout",
          "text": [
            "                             OLS Regression Results                            \n",
            "===============================================================================\n",
            "Dep. Variable:     exportaciones_piura   R-squared:                       0.691\n",
            "Model:                             OLS   Adj. R-squared:                  0.679\n",
            "Method:                  Least Squares   F-statistic:                     61.38\n",
            "Date:                 Wed, 15 Oct 2025   Prob (F-statistic):           1.58e-39\n",
            "Time:                         22:39:21   Log-Likelihood:                -1123.8\n",
            "No. Observations:                  172   AIC:                             2262.\n",
            "Df Residuals:                      165   BIC:                             2284.\n",
            "Df Model:                            6                                         \n",
            "Covariance Type:             nonrobust                                         \n",
            "==========================================================================================\n",
            "                             coef    std err          t      P>|t|      [0.025      0.975]\n",
            "------------------------------------------------------------------------------------------\n",
            "const                    514.3514    319.672      1.609      0.110    -116.824    1145.527\n",
            "credito_total_piura       -0.0383      0.095     -0.401      0.689      -0.227       0.150\n",
            "tipo_cambio             -158.6707    106.147     -1.495      0.137    -368.253      50.911\n",
            "ICEN                      27.1346     16.328      1.662      0.098      -5.105      59.374\n",
            "riesgo_pais_embig         -0.3092      0.230     -1.342      0.181      -0.764       0.146\n",
            "credito_total_nacional     0.0011      0.002      0.494      0.622      -0.003       0.006\n",
            "exportaciones_nacional     0.0564      0.007      8.415      0.000       0.043       0.070\n",
            "==============================================================================\n",
            "Omnibus:                       61.266   Durbin-Watson:                   1.966\n",
            "Prob(Omnibus):                  0.000   Jarque-Bera (JB):              285.556\n",
            "Skew:                           1.247   Prob(JB):                     9.82e-63\n",
            "Kurtosis:                       8.798   Cond. No.                     5.92e+06\n",
            "==============================================================================\n",
            "\n",
            "Notes:\n",
            "[1] Standard Errors assume that the covariance matrix of the errors is correctly specified.\n",
            "[2] The condition number is large, 5.92e+06. This might indicate that there are\n",
            "strong multicollinearity or other numerical problems.\n",
            "\n",
            "--- Resultados de Validación Cruzada (Modelo Complejo) ---\n",
            "MSEs en cada fold (CV): [19543.41598274 24756.84435787 18037.0961215  32760.6558643\n",
            " 68634.18926576]\n",
            "MSE Promedio (CV): 32,746.4403 (+/- 18,667.8817)\n"
          ]
        }
      ],
      "source": [
        "# Usamos todas las variables para el modelo complejo\n",
        "features_complex = FEATURES # O un subconjunto más grande\n",
        "X_train_complex = X_train[features_complex]\n",
        "\n",
        "# OPCIONAL: Añadir términos polinomiales (ej. grado 2)\n",
        "# poly = PolynomialFeatures(degree=2, include_bias=False)\n",
        "# X_train_poly = poly.fit_transform(X_train_complex)\n",
        "# X_train_complex = pd.DataFrame(X_train_poly, columns=poly.get_feature_names_out(features_complex))\n",
        "\n",
        "# a) Inferencia con statsmodels\n",
        "# Drop rows with NaN values for statsmodels\n",
        "X_train_complex_sm = X_train_complex.dropna()\n",
        "y_train_sm = y_train.loc[X_train_complex_sm.index]\n",
        "\n",
        "X_train_sm_complex = sm.add_constant(X_train_complex_sm)\n",
        "model_ols_complex = sm.OLS(y_train_sm, X_train_sm_complex).fit()\n",
        "print(model_ols_complex.summary())\n",
        "\n",
        "# b) Predicción con scikit-learn y CV\n",
        "model_sk_complex = LinearRegression()\n",
        "mse_scores_complex = -cross_val_score(model_sk_complex, X_train_complex, y_train, cv=k, scoring='neg_mean_squared_error')\n",
        "\n",
        "print(\"\\n--- Resultados de Validación Cruzada (Modelo Complejo) ---\")\n",
        "print(f\"MSEs en cada fold (CV): {mse_scores_complex}\")\n",
        "print(f\"MSE Promedio (CV): {np.mean(mse_scores_complex):,.4f} (+/- {np.std(mse_scores_complex):,.4f})\")"
      ]
    },
    {
      "cell_type": "markdown",
      "metadata": {
        "id": "rrKRP6lcthOZ"
      },
      "source": [
        "**Interpretación de Resultados (Modelo Complejo)**\n",
        "\n",
        "Se incorporaron más variables explicativas:\n",
        "tipo_cambio, ICEN, riesgo_pais_embig, credito_total_nacional, exportaciones_nacional. Se buscó mejorar la capacidad predictiva del modelo.\n",
        "Estimación mediante statsmodels y evaluación con scikit-learn.\n",
        "\n",
        "* **Inferencia:** ¿Cómo cambiaron los coeficientes y su significancia? ¿Mejoró el $R^2$ ajustado?\n",
        "\n",
        "Al añadir más variables, se observó un cambio en los coeficientes y su\n",
        "significancia. La variable exportaciones_nacional se vuelve significativa (coef=0.0564, p = 0.000). El R² ajustado mejora de 0.533 a 0.679, mostrando una mayor capacidad explicativa del modelo.\n",
        "\n",
        "* **Predicción:** ¿El MSE promedio de la validación cruzada mejoró (disminuyó) en comparación con el modelo simple? ¿Aumentó la variabilidad (std dev)?\n",
        "\n",
        "El MSE promedio disminuye de 45,333.6922 (modelo simple) a 32,746.4403,\n",
        "con una desviación estándar menor (18,667.8817). Esto refleja un modelo más estable, preciso y robusto.\n",
        "\n"
      ]
    },
    {
      "cell_type": "markdown",
      "metadata": {
        "id": "xtVlcWVNthOa"
      },
      "source": [
        "#### 4.A.3. Comparación de Modelos de Regresión"
      ]
    },
    {
      "cell_type": "code",
      "execution_count": null,
      "metadata": {
        "colab": {
          "base_uri": "https://localhost:8080/",
          "height": 193
        },
        "id": "egyIlOxrthOa",
        "outputId": "33fccdc0-957d-4f9a-8775-e50460d0cb79"
      },
      "outputs": [
        {
          "output_type": "stream",
          "name": "stdout",
          "text": [
            "--- Tabla Comparativa de Rendimiento Predictivo ---\n"
          ]
        },
        {
          "output_type": "display_data",
          "data": {
            "text/plain": [
              "<pandas.io.formats.style.Styler at 0x795631198200>"
            ],
            "text/html": [
              "<style type=\"text/css\">\n",
              "#T_5e837_row2_col0 {\n",
              "  background-color: lightgreen;\n",
              "}\n",
              "</style>\n",
              "<table id=\"T_5e837\" class=\"dataframe\">\n",
              "  <thead>\n",
              "    <tr>\n",
              "      <th class=\"blank level0\" >&nbsp;</th>\n",
              "      <th id=\"T_5e837_level0_col0\" class=\"col_heading level0 col0\" >MSE Promedio (CV)</th>\n",
              "      <th id=\"T_5e837_level0_col1\" class=\"col_heading level0 col1\" >Std Dev (CV)</th>\n",
              "    </tr>\n",
              "    <tr>\n",
              "      <th class=\"index_name level0\" >Modelo</th>\n",
              "      <th class=\"blank col0\" >&nbsp;</th>\n",
              "      <th class=\"blank col1\" >&nbsp;</th>\n",
              "    </tr>\n",
              "  </thead>\n",
              "  <tbody>\n",
              "    <tr>\n",
              "      <th id=\"T_5e837_level0_row0\" class=\"row_heading level0 row0\" >Baseline</th>\n",
              "      <td id=\"T_5e837_row0_col0\" class=\"data row0 col0\" >89605.931807</td>\n",
              "      <td id=\"T_5e837_row0_col1\" class=\"data row0 col1\" >0.000000</td>\n",
              "    </tr>\n",
              "    <tr>\n",
              "      <th id=\"T_5e837_level0_row1\" class=\"row_heading level0 row1\" >OLS Simple</th>\n",
              "      <td id=\"T_5e837_row1_col0\" class=\"data row1 col0\" >45333.692153</td>\n",
              "      <td id=\"T_5e837_row1_col1\" class=\"data row1 col1\" >31471.132899</td>\n",
              "    </tr>\n",
              "    <tr>\n",
              "      <th id=\"T_5e837_level0_row2\" class=\"row_heading level0 row2\" >OLS Complejo</th>\n",
              "      <td id=\"T_5e837_row2_col0\" class=\"data row2 col0\" >32746.440318</td>\n",
              "      <td id=\"T_5e837_row2_col1\" class=\"data row2 col1\" >18667.881661</td>\n",
              "    </tr>\n",
              "  </tbody>\n",
              "</table>\n"
            ]
          },
          "metadata": {}
        }
      ],
      "source": [
        "# Creamos un DataFrame para comparar los resultados de CV\n",
        "comparison_data = {\n",
        "    'Modelo': ['Baseline', 'OLS Simple', 'OLS Complejo'],\n",
        "    'MSE Promedio (CV)': [baseline_mse, np.mean(mse_scores_simple), np.mean(mse_scores_complex)],\n",
        "    'Std Dev (CV)': [0, np.std(mse_scores_simple), np.std(mse_scores_complex)]\n",
        "}\n",
        "\n",
        "comparison_df = pd.DataFrame(comparison_data)\n",
        "comparison_df.set_index('Modelo', inplace=True)\n",
        "\n",
        "print(\"--- Tabla Comparativa de Rendimiento Predictivo ---\")\n",
        "display(comparison_df.style.highlight_min(subset='MSE Promedio (CV)', color='lightgreen'))\n",
        "#Resaltando en color verde claro el valor más bajo de la columna 'MSE Promedio (CV)'"
      ]
    },
    {
      "cell_type": "markdown",
      "metadata": {
        "id": "osBkrqo8thOa"
      },
      "source": [
        "**Decisión del Mejor Modelo (Ruta A)**\n",
        "\n",
        "* Basado en el MSE promedio de la validación cruzada, ¿qué modelo tiene el mejor rendimiento predictivo?\n",
        "\n",
        "El modelo OLS Complejo presenta el menor error promedio y mayor estabilidad.\n",
        "\n",
        "* Considera también la complejidad del modelo. Si la mejora en el MSE es muy pequeña, ¿justifica añadir más variables y complejidad (principio de parsimonia)?\n",
        "\n",
        "El modelo mantiene una capacidad predictiva sólida y no presenta sobreajuste.\n",
        "\n",
        "La estimación de validación cruzada fue robusta y generaliza bien a nuevos datos."
      ]
    },
    {
      "cell_type": "markdown",
      "metadata": {
        "id": "QSKdF4pLthOf"
      },
      "source": [
        "---\n",
        "## 5. Evaluación Final sobre el Conjunto de Prueba (Test Set)\n",
        "\n",
        "**¡Llegó el momento de la verdad!**\n",
        "\n",
        "Ahora tomamos el **único modelo ganador** que elegimos en la sección anterior, lo re-entrenamos con **TODO** el conjunto de entrenamiento (`X_train`, `y_train`) y lo evaluamos en el conjunto de prueba (`X_test`, `y_test`) que habíamos guardado."
      ]
    },
    {
      "cell_type": "code",
      "execution_count": null,
      "metadata": {
        "colab": {
          "base_uri": "https://localhost:8080/"
        },
        "id": "A9MN18VCthOi",
        "outputId": "b8125953-4b36-47eb-a64f-01a3629eb506"
      },
      "outputs": [
        {
          "output_type": "stream",
          "name": "stdout",
          "text": [
            "--- Evaluación Final del Modelo de Regresión ---\n",
            "MSE en Test: 20,189.4841\n",
            "R2 en Test: 0.7002\n"
          ]
        }
      ],
      "source": [
        "# --- REEMPLAZA CON TU MODELO GANADOR ---\n",
        "# Ejemplo si el ganador fue el 'OLS Complejo'\n",
        "best_model = LinearRegression()\n",
        "X_train_final = X_train[features_complex]\n",
        "X_test_final = X_test[features_complex]\n",
        "\n",
        "# 1. Re-entrenar el modelo con TODOS los datos de entrenamiento\n",
        "best_model.fit(X_train_final, y_train)\n",
        "\n",
        "# 2. Hacer predicciones en el conjunto de prueba\n",
        "final_predictions = best_model.predict(X_test_final)\n",
        "\n",
        "# 3. Evaluar el rendimiento final\n",
        "# Si tu mejor modelo fue de REGRESIÓN:\n",
        "final_mse = mean_squared_error(y_test, final_predictions)\n",
        "final_r2 = r2_score(y_test, final_predictions)\n",
        "\n",
        "print(\"--- Evaluación Final del Modelo de Regresión ---\")\n",
        "print(f\"MSE en Test: {final_mse:,.4f}\")\n",
        "print(f\"R2 en Test: {final_r2:,.4f}\")\n",
        "\n",
        "# Si tu mejor modelo fue de CLASIFICACIÓN (ej. Logit):\n",
        "# best_model_class = LogisticRegression(random_state=42, max_iter=1000)\n",
        "# best_model_class.fit(X_train_c, y_train_c)\n",
        "# final_predictions_c = best_model_class.predict(X_test_c)\n",
        "# print(\"\\n--- Evaluación Final del Modelo de Clasificación ---\")\n",
        "# print(classification_report(y_test_c, final_predictions_c))"
      ]
    },
    {
      "cell_type": "markdown",
      "metadata": {
        "id": "GcMgH3TWthOt"
      },
      "source": [
        "**Análisis de Resultados Finales**\n",
        "\n",
        "\n",
        "\n",
        "* Compara el rendimiento en el conjunto de prueba con el rendimiento promedio obtenido en la Validación Cruzada. ¿Son similares?\n",
        "    * Si el rendimiento en `test` es mucho peor, podría ser una señal de sobreajuste (overfitting).\n",
        "    * Si es similar, confirma que tu estimación de CV era robusta.\n",
        "* Este es el rendimiento final esperado de tu modelo en nuevos datos."
      ]
    },
    {
      "cell_type": "markdown",
      "metadata": {
        "id": "1ShWQuWfthOt"
      },
      "source": [
        "## 6. Conclusiones\n",
        "\n",
        "Modelo ganador: El modelo OLS Complejo, con mejor desempeño (MSE = 20,189; R²\n",
        "= 0.70).\n",
        "\n",
        "Hallazgos clave: La variable exportaciones_nacional fue el predictor más relevante y significativo.\n",
        "\n",
        "Limitaciones: Posible multicolinealidad y exclusión de variables relevantes.\n",
        "\n",
        "Próximos pasos: Probar modelos polinomiales, ARIMA o métodos de Machine Learning\n",
        "para mejorar la predicción.\n"
      ]
    }
  ],
  "metadata": {
    "kernelspec": {
      "display_name": "Python 3",
      "language": "python",
      "name": "python3"
    },
    "language_info": {
      "codemirror_mode": {
        "name": "ipython",
        "version": 3
      },
      "file_extension": ".py",
      "mimetype": "text/x-python",
      "name": "python",
      "nbconvert_exporter": "python",
      "pygments_lexer": "ipython3",
      "version": "3.9.7"
    },
    "colab": {
      "provenance": []
    }
  },
  "nbformat": 4,
  "nbformat_minor": 0
}